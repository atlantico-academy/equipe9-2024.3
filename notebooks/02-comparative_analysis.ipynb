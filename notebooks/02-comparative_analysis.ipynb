{
 "cells": [
  {
   "cell_type": "markdown",
   "metadata": {},
   "source": [
    "Análise Comparativa de Dados"
   ]
  },
  {
   "cell_type": "code",
   "execution_count": 14,
   "metadata": {},
   "outputs": [],
   "source": [
    "import pandas as pd\n",
    "import numpy as np\n",
    "from sklearn.impute import SimpleImputer, KNNImputer\n",
    "from sklearn.pipeline import Pipeline\n",
    "from sklearn.compose import ColumnTransformer\n",
    "from sklearn.preprocessing import OneHotEncoder, OrdinalEncoder, StandardScaler\n",
    "\n",
    "from sklearn.linear_model import LinearRegression"
   ]
  },
  {
   "cell_type": "markdown",
   "metadata": {},
   "source": [
    "1. Obtenção de dados"
   ]
  },
  {
   "cell_type": "code",
   "execution_count": 15,
   "metadata": {},
   "outputs": [
    {
     "data": {
      "text/html": [
       "<div>\n",
       "<style scoped>\n",
       "    .dataframe tbody tr th:only-of-type {\n",
       "        vertical-align: middle;\n",
       "    }\n",
       "\n",
       "    .dataframe tbody tr th {\n",
       "        vertical-align: top;\n",
       "    }\n",
       "\n",
       "    .dataframe thead th {\n",
       "        text-align: right;\n",
       "    }\n",
       "</style>\n",
       "<table border=\"1\" class=\"dataframe\">\n",
       "  <thead>\n",
       "    <tr style=\"text-align: right;\">\n",
       "      <th></th>\n",
       "      <th>variavel</th>\n",
       "      <th>descricao</th>\n",
       "      <th>tipo</th>\n",
       "      <th>subtipo</th>\n",
       "    </tr>\n",
       "  </thead>\n",
       "  <tbody>\n",
       "    <tr>\n",
       "      <th>0</th>\n",
       "      <td>RowNumber</td>\n",
       "      <td>O número sequencial atribuído a cada linha</td>\n",
       "      <td>Inutil</td>\n",
       "      <td>NaN</td>\n",
       "    </tr>\n",
       "    <tr>\n",
       "      <th>1</th>\n",
       "      <td>CustomerId</td>\n",
       "      <td>Identificador único do cliente</td>\n",
       "      <td>Quantitativa</td>\n",
       "      <td>Discreta</td>\n",
       "    </tr>\n",
       "    <tr>\n",
       "      <th>2</th>\n",
       "      <td>Surname</td>\n",
       "      <td>Sobrenome do Cliente</td>\n",
       "      <td>Inutil</td>\n",
       "      <td>NaN</td>\n",
       "    </tr>\n",
       "    <tr>\n",
       "      <th>3</th>\n",
       "      <td>CreditScore</td>\n",
       "      <td>Pontuação de crédito do cliente</td>\n",
       "      <td>Quantitativa</td>\n",
       "      <td>Discreta</td>\n",
       "    </tr>\n",
       "    <tr>\n",
       "      <th>4</th>\n",
       "      <td>Geography</td>\n",
       "      <td>Localização geográfica do cliente</td>\n",
       "      <td>Qualitativa</td>\n",
       "      <td>Nominal</td>\n",
       "    </tr>\n",
       "    <tr>\n",
       "      <th>5</th>\n",
       "      <td>Gender</td>\n",
       "      <td>Genero do Cliente</td>\n",
       "      <td>Qualitativa</td>\n",
       "      <td>Nominal</td>\n",
       "    </tr>\n",
       "    <tr>\n",
       "      <th>6</th>\n",
       "      <td>Age</td>\n",
       "      <td>Idade do Cliente</td>\n",
       "      <td>Quantitativa</td>\n",
       "      <td>Discreta</td>\n",
       "    </tr>\n",
       "    <tr>\n",
       "      <th>7</th>\n",
       "      <td>Tenure</td>\n",
       "      <td>O número de anos que o cliente está no banco</td>\n",
       "      <td>Quantitiva</td>\n",
       "      <td>Discreta</td>\n",
       "    </tr>\n",
       "    <tr>\n",
       "      <th>8</th>\n",
       "      <td>Balance</td>\n",
       "      <td>Saldo da conta do cliente</td>\n",
       "      <td>Quantitativa</td>\n",
       "      <td>Continua</td>\n",
       "    </tr>\n",
       "    <tr>\n",
       "      <th>9</th>\n",
       "      <td>NumOfProducts</td>\n",
       "      <td>Número de produtos bancários que o cliente possui</td>\n",
       "      <td>Quantitativa</td>\n",
       "      <td>Discreta</td>\n",
       "    </tr>\n",
       "    <tr>\n",
       "      <th>10</th>\n",
       "      <td>HasCrCard</td>\n",
       "      <td>Indica se o cliente possui cartão de crédito  ...</td>\n",
       "      <td>Qualitativa</td>\n",
       "      <td>Nominal</td>\n",
       "    </tr>\n",
       "    <tr>\n",
       "      <th>11</th>\n",
       "      <td>IsActiveMember</td>\n",
       "      <td>Indica se o cliente é um membro ativo (binári...</td>\n",
       "      <td>Qualitativa</td>\n",
       "      <td>Nominal</td>\n",
       "    </tr>\n",
       "    <tr>\n",
       "      <th>12</th>\n",
       "      <td>EstimatedSalary</td>\n",
       "      <td>O salário estimado do cliente.</td>\n",
       "      <td>Quantitativa</td>\n",
       "      <td>Contínua</td>\n",
       "    </tr>\n",
       "    <tr>\n",
       "      <th>13</th>\n",
       "      <td>Exited</td>\n",
       "      <td>Indica se o cliente saiu do banco (binário: s...</td>\n",
       "      <td>Qualitativa</td>\n",
       "      <td>Nominal</td>\n",
       "    </tr>\n",
       "  </tbody>\n",
       "</table>\n",
       "</div>"
      ],
      "text/plain": [
       "           variavel                                          descricao  \\\n",
       "0         RowNumber         O número sequencial atribuído a cada linha   \n",
       "1        CustomerId                     Identificador único do cliente   \n",
       "2           Surname                               Sobrenome do Cliente   \n",
       "3       CreditScore                    Pontuação de crédito do cliente   \n",
       "4         Geography                  Localização geográfica do cliente   \n",
       "5            Gender                                  Genero do Cliente   \n",
       "6               Age                                   Idade do Cliente   \n",
       "7            Tenure       O número de anos que o cliente está no banco   \n",
       "8           Balance                          Saldo da conta do cliente   \n",
       "9     NumOfProducts  Número de produtos bancários que o cliente possui   \n",
       "10        HasCrCard  Indica se o cliente possui cartão de crédito  ...   \n",
       "11   IsActiveMember   Indica se o cliente é um membro ativo (binári...   \n",
       "12  EstimatedSalary                     O salário estimado do cliente.   \n",
       "13           Exited   Indica se o cliente saiu do banco (binário: s...   \n",
       "\n",
       "            tipo   subtipo  \n",
       "0         Inutil       NaN  \n",
       "1   Quantitativa  Discreta  \n",
       "2         Inutil       NaN  \n",
       "3   Quantitativa  Discreta  \n",
       "4    Qualitativa   Nominal  \n",
       "5    Qualitativa   Nominal  \n",
       "6   Quantitativa  Discreta  \n",
       "7     Quantitiva  Discreta  \n",
       "8   Quantitativa  Continua  \n",
       "9   Quantitativa  Discreta  \n",
       "10   Qualitativa   Nominal  \n",
       "11   Qualitativa   Nominal  \n",
       "12  Quantitativa  Contínua  \n",
       "13   Qualitativa   Nominal  "
      ]
     },
     "execution_count": 15,
     "metadata": {},
     "output_type": "execute_result"
    }
   ],
   "source": [
    "df = pd.read_csv('../data/raw/Churn_Modelling.csv')\n",
    "df_dict = pd.read_csv(\"../data/external/dictionary.csv\")\n",
    "df_dict"
   ]
  },
  {
   "cell_type": "markdown",
   "metadata": {},
   "source": [
    "2. Tratamento de dados faltantes"
   ]
  },
  {
   "cell_type": "code",
   "execution_count": 28,
   "metadata": {},
   "outputs": [
    {
     "name": "stdout",
     "output_type": "stream",
     "text": [
      "A quantidades de dado null é: 0\n",
      "A quantidades de dado NAN é: 0\n"
     ]
    }
   ],
   "source": [
    "print(f'A quantidades de dado null é: {df.isnull().sum().sum()}')\n",
    "print(f'A quantidades de dado NAN é: {df.isna().sum().sum()}')"
   ]
  },
  {
   "cell_type": "markdown",
   "metadata": {},
   "source": [
    "3. Normalização de Dados"
   ]
  },
  {
   "cell_type": "code",
   "execution_count": null,
   "metadata": {},
   "outputs": [],
   "source": [
    "target_column = 'Exited'\n",
    "useless_variables =  (\n",
    "    df_dict\n",
    "    .query(\"tipo == 'Inutil'\")\n",
    "    .variavel\n",
    "    .to_list()\n",
    ")\n",
    "nominal_variables = (\n",
    "    df_dict\n",
    "    .query(\"subtipo == 'Nominal' and variavel != @target_variable\")\n",
    "    .variavel\n",
    "    .to_list()\n",
    ")\n",
    "ordinal_variables = (\n",
    "    df_dict\n",
    "    .query(\"subtipo == 'Ordinal' and variavel != @target_variable\")\n",
    "    .variavel\n",
    "    .to_list()\n",
    ")\n",
    "continuous_variables = (\n",
    "    df_dict\n",
    "    .query(\"subtipo == 'Continua' and variavel != @target_variable\")\n",
    "    .variavel\n",
    "    .to_list()\n",
    ")\n",
    "discrete_variables = (\n",
    "    df_dict\n",
    "    .query(\"subtipo == 'Discreta' and variavel != @target_variable\")\n",
    "    .variavel\n",
    "    .to_list()\n",
    ")\n"
   ]
  },
  {
   "cell_type": "code",
   "execution_count": 23,
   "metadata": {},
   "outputs": [
    {
     "data": {
      "text/plain": [
       "['RowNumber',\n",
       " 'CustomerId',\n",
       " 'Surname',\n",
       " 'CreditScore',\n",
       " 'Geography',\n",
       " 'Gender',\n",
       " 'Age',\n",
       " 'Tenure',\n",
       " 'Balance',\n",
       " 'NumOfProducts',\n",
       " 'HasCrCard',\n",
       " 'IsActiveMember',\n",
       " 'EstimatedSalary',\n",
       " 'Exited']"
      ]
     },
     "execution_count": 23,
     "metadata": {},
     "output_type": "execute_result"
    }
   ],
   "source": [
    "list(df.columns)"
   ]
  },
  {
   "cell_type": "code",
   "execution_count": 30,
   "metadata": {},
   "outputs": [],
   "source": [
    "nominal_preprocessor = Pipeline(steps=[ \n",
    "    (\"missing\", SimpleImputer(strategy='most_frequent')),\n",
    "    (\"encoding\", OneHotEncoder(sparse_output=False)),\n",
    "])\n",
    "continuous_preprocessor = Pipeline(steps=[ \n",
    "    (\"missing\", SimpleImputer(strategy='median')),\n",
    "    (\"normalization\", OrdinalEncoder()),\n",
    "])\n",
    "discrete_preprocessor = Pipeline(steps=[ \n",
    "    (\"missing\", SimpleImputer(strategy='median')),\n",
    "    (\"normalization\", OrdinalEncoder()),\n",
    "])"
   ]
  },
  {
   "cell_type": "code",
   "execution_count": 31,
   "metadata": {},
   "outputs": [],
   "source": [
    "preprocessor = ColumnTransformer([\n",
    "    (\"nominal\", nominal_preprocessor, nominal_variables),\n",
    "    (\"continuous\", continuous_preprocessor, continuous_variables),\n",
    "    (\"discrete\", discrete_preprocessor, discrete_variables)  \n",
    "])"
   ]
  }
 ],
 "metadata": {
  "kernelspec": {
   "display_name": "Python 3",
   "language": "python",
   "name": "python3"
  },
  "language_info": {
   "codemirror_mode": {
    "name": "ipython",
    "version": 3
   },
   "file_extension": ".py",
   "mimetype": "text/x-python",
   "name": "python",
   "nbconvert_exporter": "python",
   "pygments_lexer": "ipython3",
   "version": "3.12.4"
  }
 },
 "nbformat": 4,
 "nbformat_minor": 2
}
